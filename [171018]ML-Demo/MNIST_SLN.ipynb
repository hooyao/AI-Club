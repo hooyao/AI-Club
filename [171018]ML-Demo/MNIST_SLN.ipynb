{
 "cells": [
  {
   "cell_type": "code",
   "execution_count": 1,
   "metadata": {},
   "outputs": [
    {
     "name": "stdout",
     "output_type": "stream",
     "text": [
      "Extracting ../data/mnist/train-images-idx3-ubyte.gz\n",
      "Extracting ../data/mnist/train-labels-idx1-ubyte.gz\n",
      "Extracting ../data/mnist/t10k-images-idx3-ubyte.gz\n",
      "Extracting ../data/mnist/t10k-labels-idx1-ubyte.gz\n"
     ]
    }
   ],
   "source": [
    "from tensorflow.examples.tutorials.mnist import input_data\n",
    "mnist = input_data.read_data_sets(\"../data/mnist\", one_hot=True, reshape=False)\n",
    "import tensorflow as tf"
   ]
  },
  {
   "cell_type": "code",
   "execution_count": 7,
   "metadata": {
    "scrolled": true
   },
   "outputs": [
    {
     "data": {
      "image/png": "[encoded data removed]",
      "text/plain": [
       "<matplotlib.figure.Figure at 0x123ae4860>"
      ]
     },
     "metadata": {},
     "output_type": "display_data"
    }
   ],
   "source": [
    "# Visualizing the data\n",
    "import matplotlib.pyplot as plt\n",
    "%matplotlib inline\n",
    "\n",
    "# Function for displaying a training image by it's index in the MNIST set\n",
    "def display_digit(index):\n",
    "    label = mnist.test.labels[index].argmax(axis=0)\n",
    "    \n",
    "    #label = trainY[index].argmax(axis=0)\n",
    "    # Reshape 784 array into 28x28 image\n",
    "    image = mnist.test.images[index,].reshape([28,28])\n",
    "    #image = trainX[index].reshape([28,28])\n",
    "    plt.title('Training data, index: %d,  Label: %d' % (index, label))\n",
    "    plt.imshow(image, cmap='gray_r')\n",
    "    plt.show()\n",
    "    \n",
    "# Display the first (index 0) training image\n",
    "display_digit(6)"
   ]
  },
  {
   "cell_type": "markdown",
   "metadata": {},
   "source": [
    "Start Tensorflow"
   ]
  },
  {
   "cell_type": "code",
   "execution_count": 8,
   "metadata": {
    "collapsed": true
   },
   "outputs": [],
   "source": [
    "#tensorflow must be reset\n",
    "tf.reset_default_graph()\n",
    "\n",
    "# Parameters\n",
    "learning_rate = 0.001\n",
    "training_epochs = 50\n",
    "batch_size = 128  # Decrease batch size if you don't have enough memory\n",
    "display_step = 1\n",
    "\n",
    "n_input = 784  # MNIST data input (img shape: 28*28)\n",
    "n_classes = 10  # MNIST total classes (0-9 digits)\n",
    "\n",
    "n_hidden_layer = 256  # layer number of features\n",
    "\n",
    "#define weights and biases\n",
    "weights = {\n",
    "    'hidden_layer': tf.Variable(tf.random_normal([n_input, n_hidden_layer]), name='weight.hl'),\n",
    "    'out': tf.Variable(tf.random_normal([n_hidden_layer, n_classes]), name='weight.out')\n",
    "}\n",
    "biases = {\n",
    "    'hidden_layer': tf.Variable(tf.random_normal([n_hidden_layer]), name='bias.hl'),\n",
    "    'out': tf.Variable(tf.random_normal([n_classes]), name='bias.out')\n",
    "}\n",
    "\n",
    "# define graph\n",
    "# tf Graph input\n",
    "x = tf.placeholder(\"float\", [None, 28, 28, 1])\n",
    "y = tf.placeholder(\"float\", [None, n_classes])\n",
    "\n",
    "x_flat = tf.reshape(x, [-1, n_input])\n",
    "\n",
    "# Hidden layer with RELU activation\n",
    "keep_prob = tf.placeholder(tf.float32)\n",
    "layer_1 = tf.add(tf.matmul(x_flat, weights['hidden_layer']), biases['hidden_layer'])\n",
    "layer_1 = tf.nn.relu(layer_1)\n",
    "layer_1 = tf.nn.dropout(layer_1, keep_prob)\n",
    "# Output layer with linear activation\n",
    "logits = tf.matmul(layer_1, weights['out']) + biases['out']\n",
    "\n",
    "# Define loss and optimizer\n",
    "cost = tf.reduce_mean(tf.nn.softmax_cross_entropy_with_logits(logits=logits, labels=y))\n",
    "optimizer = tf.train.GradientDescentOptimizer(learning_rate=learning_rate).minimize(cost)\n",
    "\n",
    "# Initializing the variables\n",
    "init = tf.global_variables_initializer()\n",
    "\n",
    "saver = tf.train.Saver()"
   ]
  },
  {
   "cell_type": "code",
   "execution_count": 9,
   "metadata": {},
   "outputs": [
    {
     "name": "stdout",
     "output_type": "stream",
     "text": [
      "Epoch: 0001 cost= 104.484886169\n",
      "Epoch: 0002 cost= 71.353393555\n",
      "Epoch: 0003 cost= 53.500286102\n",
      "Epoch: 0004 cost= 38.621261597\n",
      "Epoch: 0005 cost= 38.073062897\n",
      "Epoch: 0006 cost= 40.052101135\n",
      "Epoch: 0007 cost= 21.346229553\n",
      "Epoch: 0008 cost= 25.931295395\n",
      "Epoch: 0009 cost= 25.033325195\n",
      "Epoch: 0010 cost= 20.839004517\n",
      "Epoch: 0011 cost= 17.695516586\n",
      "Epoch: 0012 cost= 23.252573013\n",
      "Epoch: 0013 cost= 13.192319870\n",
      "Epoch: 0014 cost= 20.175168991\n",
      "Epoch: 0015 cost= 25.816703796\n",
      "Epoch: 0016 cost= 13.679983139\n",
      "Epoch: 0017 cost= 10.186441422\n",
      "Epoch: 0018 cost= 14.485073090\n",
      "Epoch: 0019 cost= 10.925359726\n",
      "Epoch: 0020 cost= 16.131336212\n",
      "Epoch: 0021 cost= 9.028862953\n",
      "Epoch: 0022 cost= 10.549565315\n",
      "Epoch: 0023 cost= 8.523704529\n",
      "Epoch: 0024 cost= 10.347675323\n",
      "Epoch: 0025 cost= 11.086404800\n",
      "Epoch: 0026 cost= 10.568126678\n",
      "Epoch: 0027 cost= 8.535199165\n",
      "Epoch: 0028 cost= 12.407492638\n",
      "Epoch: 0029 cost= 7.692915916\n",
      "Epoch: 0030 cost= 6.919214249\n",
      "Epoch: 0031 cost= 6.722673416\n",
      "Epoch: 0032 cost= 12.506849289\n",
      "Epoch: 0033 cost= 8.329050064\n",
      "Epoch: 0034 cost= 5.625678062\n",
      "Epoch: 0035 cost= 8.117603302\n",
      "Epoch: 0036 cost= 12.635970116\n",
      "Epoch: 0037 cost= 6.785429001\n",
      "Epoch: 0038 cost= 5.169188023\n",
      "Epoch: 0039 cost= 5.014163494\n",
      "Epoch: 0040 cost= 10.919295311\n",
      "Epoch: 0041 cost= 8.644477844\n",
      "Epoch: 0042 cost= 9.449447632\n",
      "Epoch: 0043 cost= 7.702204704\n",
      "Epoch: 0044 cost= 5.749328613\n",
      "Epoch: 0045 cost= 4.173745155\n",
      "Epoch: 0046 cost= 5.314810753\n",
      "Epoch: 0047 cost= 5.114778519\n",
      "Epoch: 0048 cost= 6.669901371\n",
      "Epoch: 0049 cost= 8.668706894\n",
      "Epoch: 0050 cost= 4.176456928\n",
      "Optimization Finished!\n"
     ]
    }
   ],
   "source": [
    "with tf.Session() as sess:\n",
    "    sess.run(init)\n",
    "    # Training cycle\n",
    "    for epoch in range(training_epochs):\n",
    "        total_batch = int(mnist.train.num_examples / batch_size)\n",
    "        # Loop over all batches\n",
    "        for i in range(total_batch):\n",
    "            batch_x, batch_y = mnist.train.next_batch(batch_size)\n",
    "            # Run optimization op (backprop) and cost op (to get loss value)\n",
    "            sess.run(optimizer, feed_dict={x: batch_x, y: batch_y, keep_prob: 0.5})\n",
    "        # Display logs per epoch step\n",
    "        if epoch % display_step == 0:\n",
    "            c = sess.run(cost, feed_dict={x: batch_x, y: batch_y, keep_prob: 0.5})\n",
    "            print(\"Epoch:\", '%04d' % (epoch + 1), \"cost=\", \\\n",
    "                  \"{:.9f}\".format(c))\n",
    "    print(\"Optimization Finished!\")\n",
    "    \n",
    "    saver.save(sess, './mnist_2_l.ckpt')"
   ]
  },
  {
   "cell_type": "markdown",
   "metadata": {},
   "source": [
    "Load the saved model and try to recognize hand write digit"
   ]
  },
  {
   "cell_type": "code",
   "execution_count": 10,
   "metadata": {
    "scrolled": true
   },
   "outputs": [
    {
     "name": "stdout",
     "output_type": "stream",
     "text": [
      "INFO:tensorflow:Restoring parameters from ./mnist_2_l.ckpt\n",
      "Test Accuracy: 0.8781999945640564\n"
     ]
    }
   ],
   "source": [
    "save_file = './mnist_2_l.ckpt'\n",
    "\n",
    "#tensorflow must be reset\n",
    "tf.reset_default_graph()\n",
    "\n",
    "n_input = 784  # MNIST data input (img shape: 28*28)\n",
    "n_classes = 10  # MNIST total classes (0-9 digits)\n",
    "n_hidden_layer = 256 # layer number of features\n",
    "\n",
    "weights = {\n",
    "    'hidden_layer': tf.Variable(tf.random_normal([n_input, n_hidden_layer]), name='weight.hl'),\n",
    "    'out': tf.Variable(tf.random_normal([n_hidden_layer, n_classes]), name='weight.out')\n",
    "}\n",
    "biases = {\n",
    "    'hidden_layer': tf.Variable(tf.random_normal([n_hidden_layer]), name='bias.hl'),\n",
    "    'out': tf.Variable(tf.random_normal([n_classes]), name='bias.out')\n",
    "}\n",
    "\n",
    "saver = tf.train.Saver()\n",
    "\n",
    "features = tf.placeholder(tf.float32, [None, n_input])\n",
    "labels = tf.placeholder(tf.float32, [None, n_classes])\n",
    "\n",
    "x = tf.placeholder(\"float\", [None, 28, 28, 1])\n",
    "y = tf.placeholder(\"float\", [None, n_classes])\n",
    "\n",
    "x_flat = tf.reshape(x, [-1, n_input])\n",
    "\n",
    "keep_prob = tf.placeholder(tf.float32)\n",
    "layer_1 = tf.add(tf.matmul(x_flat, weights['hidden_layer']), biases['hidden_layer'])\n",
    "layer_1 = tf.nn.relu(layer_1)\n",
    "layer_1 = tf.nn.dropout(layer_1, keep_prob)\n",
    "logits = tf.matmul(layer_1, weights['out']) + biases['out']\n",
    "\n",
    "# Test model\n",
    "correct_prediction = tf.equal(tf.argmax(logits, 1), tf.argmax(y, 1))\n",
    "# Calculate accuracy\n",
    "accuracy = tf.reduce_mean(tf.cast(correct_prediction, \"float\"))\n",
    "\n",
    "# Launch the graph\n",
    "with tf.Session() as sess:\n",
    "    saver.restore(sess, save_file)\n",
    "\n",
    "    test_accuracy = sess.run(accuracy,\n",
    "        feed_dict={x: mnist.test.images, y: mnist.test.labels, keep_prob:1.0})\n",
    "\n",
    "print('Test Accuracy: {}'.format(test_accuracy))"
   ]
  },
  {
   "cell_type": "markdown",
   "metadata": {
    "collapsed": true
   },
   "source": [
    "Last we test it with our written digits"
   ]
  },
  {
   "cell_type": "code",
   "execution_count": 16,
   "metadata": {
    "collapsed": true
   },
   "outputs": [],
   "source": [
    "def predict_image(image):\n",
    "    save_file = './mnist_2_l.ckpt'\n",
    "\n",
    "    #tensorflow must be reset\n",
    "    tf.reset_default_graph()\n",
    "\n",
    "    n_input = 784  # MNIST data input (img shape: 28*28)\n",
    "    n_classes = 10  # MNIST total classes (0-9 digits)\n",
    "    n_hidden_layer = 256 # layer number of features\n",
    "\n",
    "    weights = {\n",
    "        'hidden_layer': tf.Variable(tf.random_normal([n_input, n_hidden_layer]), name='weight.hl'),\n",
    "        'out': tf.Variable(tf.random_normal([n_hidden_layer, n_classes]), name='weight.out')\n",
    "    }\n",
    "    biases = {\n",
    "        'hidden_layer': tf.Variable(tf.random_normal([n_hidden_layer]), name='bias.hl'),\n",
    "        'out': tf.Variable(tf.random_normal([n_classes]), name='bias.out')\n",
    "    }\n",
    "\n",
    "    saver = tf.train.Saver()\n",
    "\n",
    "    features = tf.placeholder(tf.float32, [None, n_input])\n",
    "    labels = tf.placeholder(tf.float32, [None, n_classes])\n",
    "\n",
    "    x = tf.placeholder(\"float\", [28, 28, 1])\n",
    "\n",
    "    x_flat = tf.reshape(x, [-1, n_input])\n",
    "\n",
    "    keep_prob = tf.placeholder(tf.float32)\n",
    "    layer_1 = tf.add(tf.matmul(x_flat, weights['hidden_layer']), biases['hidden_layer'])\n",
    "    layer_1 = tf.nn.relu(layer_1)\n",
    "    layer_1 = tf.nn.dropout(layer_1, keep_prob)\n",
    "    logits = tf.matmul(layer_1, weights['out']) + biases['out']\n",
    "\n",
    "    prediction = tf.argmax(logits, 1)\n",
    "\n",
    "    # Launch the graph\n",
    "    with tf.Session() as sess:\n",
    "        saver.restore(sess, save_file)\n",
    "\n",
    "        digit = sess.run(prediction,\n",
    "            feed_dict={x: image, keep_prob:1.0})\n",
    "        return digit"
   ]
  },
  {
   "cell_type": "code",
   "execution_count": 18,
   "metadata": {
    "collapsed": true
   },
   "outputs": [],
   "source": [
    "from skimage import io, util\n",
    "img = io.imread('4.jpg', as_grey=True)\n",
    "img = util.invert(img)"
   ]
  },
  {
   "cell_type": "code",
   "execution_count": 19,
   "metadata": {},
   "outputs": [
    {
     "data": {
      "image/png": "[encoded data removed]",
      "text/plain": [
       "<matplotlib.figure.Figure at 0x12e9355f8>"
      ]
     },
     "metadata": {},
     "output_type": "display_data"
    }
   ],
   "source": [
    "img.shape\n",
    "plt.imshow(img, cmap='gray_r')\n",
    "plt.show()"
   ]
  },
  {
   "cell_type": "code",
   "execution_count": 20,
   "metadata": {
    "scrolled": true
   },
   "outputs": [
    {
     "name": "stdout",
     "output_type": "stream",
     "text": [
      "INFO:tensorflow:Restoring parameters from ./mnist_2_l.ckpt\n",
      "4\n"
     ]
    }
   ],
   "source": [
    "print(predict_image(img.reshape([28,28,1]))[0])"
   ]
  },
  {
   "cell_type": "code",
   "execution_count": null,
   "metadata": {
    "collapsed": true
   },
   "outputs": [],
   "source": []
  }
 ],
 "metadata": {
  "kernelspec": {
   "display_name": "Python [conda env:aiclub]",
   "language": "python",
   "name": "conda-env-aiclub-py"
  },
  "language_info": {
   "codemirror_mode": {
    "name": "ipython",
    "version": 3
   },
   "file_extension": ".py",
   "mimetype": "text/x-python",
   "name": "python",
   "nbconvert_exporter": "python",
   "pygments_lexer": "ipython3",
   "version": "3.6.2"
  }
 },
 "nbformat": 4,
 "nbformat_minor": 2
}
