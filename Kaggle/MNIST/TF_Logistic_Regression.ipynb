{
 "cells": [
  {
   "cell_type": "code",
   "execution_count": 1,
   "metadata": {
    "collapsed": true
   },
   "outputs": [],
   "source": [
    "import tensorflow as tf\n",
    "import numpy as np\n",
    "import pandas as pd"
   ]
  },
  {
   "cell_type": "code",
   "execution_count": 2,
   "metadata": {
    "collapsed": true
   },
   "outputs": [],
   "source": [
    "raw_train = pd.read_csv('../MNIST/input/train.csv')\n",
    "raw_test = pd.read_csv('../MNIST/input/test.csv')"
   ]
  },
  {
   "cell_type": "code",
   "execution_count": 3,
   "metadata": {
    "collapsed": true
   },
   "outputs": [],
   "source": [
    "def to_one_hot(label):\n",
    "    base = np.zeros([label.shape[0],10])\n",
    "    base[np.arange(label.shape[0]),label[:,0].tolist()] = 1\n",
    "    return base"
   ]
  },
  {
   "cell_type": "code",
   "execution_count": 4,
   "metadata": {},
   "outputs": [
    {
     "name": "stdout",
     "output_type": "stream",
     "text": [
      "(42000, 784)\n",
      "(42000, 10)\n",
      "(28000, 784)\n"
     ]
    }
   ],
   "source": [
    "train_255 = raw_train.iloc[:,1:].values\n",
    "raw_label = raw_train.iloc[:,0].values.reshape([train_255.shape[0],1])\n",
    "label = to_one_hot(raw_label)\n",
    "train = train_255.astype(np.float)/255.0\n",
    "print(train.shape)\n",
    "print(label.shape)\n",
    "test_255 = raw_test.values\n",
    "test = test_255.astype(np.float)/255.0\n",
    "print(test.shape)"
   ]
  },
  {
   "cell_type": "code",
   "execution_count": 5,
   "metadata": {
    "collapsed": true
   },
   "outputs": [],
   "source": [
    "def next_batch(num, train, label):\n",
    "    idx = np.arange(0 , len(train))\n",
    "    np.random.shuffle(idx)\n",
    "    idx=idx[:num]\n",
    "    data_shuffle = train[idx,:]\n",
    "    label_shuffle = label[idx,:]\n",
    "    return data_shuffle, label_shuffle\n"
   ]
  },
  {
   "cell_type": "code",
   "execution_count": null,
   "metadata": {},
   "outputs": [],
   "source": [
    "# Parameters\n",
    "learning_rate = 0.01\n",
    "training_epochs = 200\n",
    "batch_size = 128\n",
    "display_step = 1\n",
    "\n",
    "# tf Graph Input\n",
    "x = tf.placeholder(tf.float32, [None, 784]) # mnist data image of shape 28*28=784\n",
    "y = tf.placeholder(tf.float32, [None, 10]) # 0-9 digits recognition => 10 classes\n",
    "\n",
    "# Set model weights\n",
    "W = tf.Variable(tf.zeros([784, 10]))\n",
    "b = tf.Variable(tf.zeros([10]))\n",
    "\n",
    "# Construct model\n",
    "pred = tf.nn.softmax(tf.matmul(x, W) + b) # Softmax\n",
    "\n",
    "# Minimize error using cross entropy\n",
    "cost = tf.reduce_mean(-tf.reduce_sum(y*tf.log(pred), reduction_indices=1))\n",
    "# Gradient Descent\n",
    "optimizer = tf.train.GradientDescentOptimizer(learning_rate).minimize(cost)\n",
    "\n",
    "# Initialize the variables (i.e. assign their default value)\n",
    "init = tf.global_variables_initializer()"
   ]
  },
  {
   "cell_type": "code",
   "execution_count": null,
   "metadata": {
    "scrolled": false
   },
   "outputs": [
    {
     "name": "stdout",
     "output_type": "stream",
     "text": [
      "Epoch: 0001 cost= 1.404695759\n",
      "Epoch: 0002 cost= 0.805813942\n",
      "Epoch: 0003 cost= 0.655340666\n",
      "Epoch: 0004 cost= 0.579391626\n",
      "Epoch: 0005 cost= 0.534037088\n",
      "Epoch: 0006 cost= 0.497583955\n",
      "Epoch: 0007 cost= 0.479454786\n",
      "Epoch: 0008 cost= 0.459047111\n",
      "Epoch: 0009 cost= 0.447759167\n",
      "Epoch: 0010 cost= 0.429823918\n",
      "Epoch: 0011 cost= 0.414840446\n",
      "Epoch: 0012 cost= 0.412144990\n",
      "Epoch: 0013 cost= 0.398457239\n",
      "Epoch: 0014 cost= 0.397160677\n",
      "Epoch: 0015 cost= 0.390552290\n",
      "Epoch: 0016 cost= 0.380100449\n",
      "Epoch: 0017 cost= 0.377033905\n",
      "Epoch: 0018 cost= 0.381601470\n",
      "Epoch: 0019 cost= 0.371819557\n",
      "Epoch: 0020 cost= 0.369139694\n",
      "Epoch: 0021 cost= 0.369822618\n",
      "Epoch: 0022 cost= 0.361793020\n",
      "Epoch: 0023 cost= 0.357474654\n",
      "Epoch: 0024 cost= 0.360014180\n",
      "Epoch: 0025 cost= 0.353243229\n",
      "Epoch: 0026 cost= 0.348484373\n",
      "Epoch: 0027 cost= 0.349204614\n",
      "Epoch: 0028 cost= 0.345487324\n",
      "Epoch: 0029 cost= 0.347456616\n",
      "Epoch: 0030 cost= 0.340322461\n",
      "Epoch: 0031 cost= 0.342561718\n",
      "Epoch: 0032 cost= 0.339824477\n"
     ]
    }
   ],
   "source": [
    "# Start training\n",
    "with tf.Session() as sess:\n",
    "\n",
    "    # Run the initializer\n",
    "    sess.run(init)\n",
    "\n",
    "    # Training cycle\n",
    "    for epoch in range(training_epochs):\n",
    "        avg_cost = 0.\n",
    "        total_batch = int(train.shape[0]/batch_size)\n",
    "        # Loop over all batches\n",
    "        for i in range(total_batch):\n",
    "            batch_xs, batch_ys = next_batch(batch_size,train,label)\n",
    "            # Run optimization op (backprop) and cost op (to get loss value)\n",
    "            _, c = sess.run([optimizer, cost], feed_dict={x: batch_xs,\n",
    "                                                          y: batch_ys})\n",
    "            # Compute average loss\n",
    "            avg_cost += c / total_batch\n",
    "        # Display logs per epoch step\n",
    "        if (epoch+1) % display_step == 0:\n",
    "            print(\"Epoch:\", '%04d' % (epoch+1), \"cost=\", \"{:.9f}\".format(avg_cost))\n",
    "\n",
    "    print(\"Optimization Finished!\")\n",
    "\n",
    "    # eval test data\n",
    "    # Test model\n",
    "    test_prediction = tf.argmax(pred, 1)\n",
    "    result = test_prediction.eval({x: test})\n",
    "    print(result)\n",
    "    #correct_prediction = tf.equal(tf.argmax(pred, 1), tf.argmax(y, 1))\n",
    "    # Calculate accuracy\n",
    "    #accuracy = tf.reduce_mean(tf.cast(correct_prediction, tf.float32))\n",
    "    #print(\"Accuracy:\", accuracy.eval({x: mnist.test.images, y: mnist.test.labels}))"
   ]
  },
  {
   "cell_type": "code",
   "execution_count": null,
   "metadata": {
    "collapsed": true
   },
   "outputs": [],
   "source": [
    "dtype = [('ImageId','int32'), ('Label','int32')]\n",
    "values = np.zeros(test.shape[0], dtype=dtype)\n",
    "index = np.arange(1,test.shape[0]+1)\n",
    "df = pd.DataFrame(values, index=index)\n",
    "df['ImageId'] = index\n",
    "df['Label'] = result\n",
    "df.to_csv('./input/submission.csv', sep=',', encoding='utf-8', index=False)"
   ]
  }
 ],
 "metadata": {
  "kernelspec": {
   "display_name": "Python 3",
   "language": "python",
   "name": "python3"
  },
  "language_info": {
   "codemirror_mode": {
    "name": "ipython",
    "version": 3
   },
   "file_extension": ".py",
   "mimetype": "text/x-python",
   "name": "python",
   "nbconvert_exporter": "python",
   "pygments_lexer": "ipython3",
   "version": "3.6.2"
  }
 },
 "nbformat": 4,
 "nbformat_minor": 2
}
